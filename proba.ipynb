{
 "cells": [
  {
   "cell_type": "markdown",
   "id": "8770f45c",
   "metadata": {},
   "source": [
    "This notebook contains the Sage scripts used to compute the probability bounds from the paper:\n",
    "\n",
    "*Analyzing the Real-Work Security of the Algorand Blockchain*\n",
    "\n",
    "to be published at ACM CCS 2023.\n",
    "\n",
    "Eprint: TBA\n",
    "\n",
    "\n",
    "\n",
    "**WARNING**: This is a [Sage](https://www.sagemath.org/) Jupyter notebook. This is not a pure Python Jupyter notebook\n",
    "\n",
    "Open using \n",
    "\n",
    "```bash\n",
    "sage -n jupyter .\n",
    "```"
   ]
  },
  {
   "cell_type": "code",
   "execution_count": 5,
   "id": "11bd21d4",
   "metadata": {},
   "outputs": [],
   "source": [
    "from scipy.stats import poisson, binom, hypergeom, norm\n",
    "import numpy as np\n",
    "import collections"
   ]
  },
  {
   "cell_type": "markdown",
   "id": "b0d613f7",
   "metadata": {},
   "source": [
    "## Parameters\n",
    "\n",
    "This section just defines the various parameters we us."
   ]
  },
  {
   "cell_type": "code",
   "execution_count": 6,
   "id": "d82ddb90",
   "metadata": {},
   "outputs": [],
   "source": [
    "Step = collections.namedtuple(\"Step\", [\"name\", \"E\", \"t\"])\n",
    "# E = size of committee\n",
    "# t = threshold\n",
    "\n",
    "steps = [\n",
    "    Step(\"soft\", 2990, 2267),\n",
    "    Step(\"cert\", 1500, 1112),\n",
    "    Step(\"next\", 5000, 3838),\n",
    "    Step(\"late\", 500, 320),\n",
    "    Step(\"redo\", 2400, 1768),\n",
    "    Step(\"down\", 6000, 4560),\n",
    "    Step(\"prop\", 20, 1)\n",
    "]\n",
    "\n",
    "named_steps = {step.name: step for step in steps}\n",
    "\n",
    "alpha = 0.2 # probability to be malicious\n",
    "p = 1 - alpha"
   ]
  },
  {
   "cell_type": "markdown",
   "id": "1f4485bf",
   "metadata": {},
   "source": [
    "## Safety/Validity Failures (Theorem 6.1 / Appendix A.3) - Events A.1-A.6"
   ]
  },
  {
   "cell_type": "markdown",
   "id": "8b5fa673",
   "metadata": {},
   "source": [
    "### Event A.1 (first part)\n",
    "\n",
    "Proof using Lemma A.19"
   ]
  },
  {
   "cell_type": "code",
   "execution_count": 7,
   "id": "c5eb2811",
   "metadata": {},
   "outputs": [
    {
     "name": "stdout",
     "output_type": "stream",
     "text": [
      "Probability of safety failure for soft-vote committee:\n",
      "  soft E=2990 t=2267: 2^-128.2\n"
     ]
    }
   ],
   "source": [
    "Nmin = 1e12\n",
    "\n",
    "\n",
    "def poi(x, k):\n",
    "    return x**k / (factorial(k) * exp(x))\n",
    "\n",
    "\n",
    "def step2failure_formal(E2, T2):\n",
    "    \"\"\"    \n",
    "    Return the probability of failure and its log in base 2\n",
    "    for the step 2 / soft vote step (expected size E2, quorum/threshold T2)\n",
    "    That is the probability the adversary control X parties on the committee\n",
    "    and there are Y honest parties on the committee so that:\n",
    "    2 X + Y >= 2 * T2\n",
    "    \"\"\"\n",
    "    \n",
    "    NN = int(1.5e3) # a bound for our sum, we use this value\n",
    "    # we chose this value because we remark \n",
    "    # that the missing terms of the computation\n",
    "    # are smaller than sum(poi(E2*alpha + E2/Nmin, i)) for i=NN,...\n",
    "    # which is poisson(E2*alpha + E2/Nmin).sf(NN-1)\n",
    "    # which is negligible:\n",
    "    assert(log(float(poisson(alpha*E2 + E2/Nmin).sf(NN-1)),2).n() < -256)\n",
    "    # we anyway add those terms later to be on the safe side\n",
    "\n",
    "    def f(i):\n",
    "        return poi(alpha*E2 + E2/Nmin, i) * poisson(E2*(1-alpha) + E2/Nmin).sf(2*T2-2*i-1)\n",
    "\n",
    "    pf = sum(f(i) for i in (0..NN)) + poisson(alpha*E2 + E2/Nmin).sf(NN-1)\n",
    "    pflog2 = log(float(pf), 2).n()\n",
    "    \n",
    "    return pf, pflog2\n",
    "\n",
    "\n",
    "print(f\"Probability of safety failure for soft-vote committee:\")\n",
    "\n",
    "step = steps[0]\n",
    "name = step.name\n",
    "assert name == \"soft\"\n",
    "E2 = step.E\n",
    "T2 = step.t\n",
    "pf, pflog2 = step2failure_formal(E2, T2)\n",
    "print(f\"  {name} E={E2:4d} t={T2:4d}: 2^{pflog2:.1f}\")"
   ]
  },
  {
   "cell_type": "markdown",
   "id": "f95cb7bb",
   "metadata": {},
   "source": [
    "### Event A.1 (second part) and A.2 - A.6\n",
    "\n",
    "We directly use Chernoff here as the bounds are already good enough this way."
   ]
  },
  {
   "cell_type": "code",
   "execution_count": 8,
   "id": "eb981bea",
   "metadata": {},
   "outputs": [
    {
     "name": "stdout",
     "output_type": "stream",
     "text": [
      "  soft E=2990 t=2267: 0.00000=2^-1402.693\n",
      "  cert E=1500 t=1112: 0.00000=2^-673.677\n",
      "  next E=5000 t=3838: 0.00000=2^-2401.781\n",
      "  late E= 500 t= 320: 0.00000=2^-166.253\n",
      "  redo E=2400 t=1768: 0.00000=2^-1064.658\n",
      "  down E=6000 t=4560: 0.00000=2^-2827.682\n",
      "  prop E=  20 t=   1: 0.16530=2^-2.597\n"
     ]
    }
   ],
   "source": [
    "for step in steps:\n",
    "    # using the new Chernoff bound from the paper,\n",
    "    # e^{-(\\alpha E-Q)^2/(\\alpha E+Q)}  --- Q = T\n",
    "    pf = exp(-(alpha * step.E - step.t)**2 / (alpha * step.E + step.t))\n",
    "    pflog2 = log(pf, 2)\n",
    "    print(f\"  {step.name} E={step.E:4d} t={step.t:4d}: {pf:.5f}=2^{pflog2:.3f}\")"
   ]
  },
  {
   "cell_type": "markdown",
   "id": "7f3e0d44",
   "metadata": {},
   "source": [
    "## Liveness Failures (Theorem 6.2 and Theorem A.23) - Events B.1-B.5\n",
    "\n",
    "This uses Lemma A.22."
   ]
  },
  {
   "cell_type": "code",
   "execution_count": 9,
   "id": "139d7b64",
   "metadata": {},
   "outputs": [
    {
     "name": "stdout",
     "output_type": "stream",
     "text": [
      "Proven bounds of proba that not enough honest parties in committees (assuming N>1.00000000000000e12):\n",
      "  soft E=2990 t=2267: 0.00486=2^-7.7\n",
      "  cert E=1500 t=1112: 0.00491=2^-7.7\n",
      "  next E=5000 t=3838: 0.00488=2^-7.7\n",
      "  late E= 500 t= 320: 0.00002=2^-16.0\n",
      "  redo E=2400 t=1768: 0.00021=2^-12.2\n",
      "  down E=6000 t=4560: 0.00023=2^-12.1\n",
      "  prop E=  20 t=   1: 0.00000=2^-23.1\n"
     ]
    }
   ],
   "source": [
    "minN = 1e12\n",
    "print(f\"Proven bounds of proba that not enough honest parties in committees (assuming N>{minN}):\")\n",
    "for step in steps:\n",
    "    lambda_ = step.E * p\n",
    "    pf = poisson(lambda_).cdf(step.t-1) * exp(((step.t-1)*lambda_*2+step.t-1)/ (2*minN*p))\n",
    "    pflog2 = log(float(pf), 2).n()\n",
    "    print(f\"  {step.name} E={step.E:4d} t={step.t:4d}: {pf:.5f}=2^{pflog2:.1f}\")"
   ]
  },
  {
   "cell_type": "markdown",
   "id": "da9bd4b2",
   "metadata": {},
   "source": [
    "## Inconsistency Failures (Theorem 6.4) - Events C.1-C.4\n",
    "\n",
    "This uses Lemma 6.3."
   ]
  },
  {
   "cell_type": "code",
   "execution_count": 12,
   "id": "8e4ec9e1",
   "metadata": {},
   "outputs": [
    {
     "name": "stdout",
     "output_type": "stream",
     "text": [
      "C1.\n",
      "  log2: -128.99314946080835\n",
      "C2.\n",
      "  log2: -128.926700863214\n",
      "C3.\n",
      "  log2: -222.09420642539348\n",
      "C4\n",
      "  log2: -129.39867875776855\n"
     ]
    }
   ],
   "source": [
    "def red_blue_win_bound(Tr, Er, Tb, Eb):\n",
    "    \"\"\"\n",
    "    Compute the bound for the winning probability of the red blue game from Lemma 6.3\n",
    "    \"\"\"\n",
    "    gamma = Tr / Er + Tb / Eb\n",
    "    delta = (1+alpha)/gamma #  = lambda in https://arxiv.org/pdf/1709.08157.pdf\n",
    "    u = var('u')\n",
    "    lnp = u * delta * gamma - Tr * log(1+u/Er) - Tb * log(1+u/Eb)\n",
    "    log2p = lnp / ln(2)\n",
    "    (min_log2p, min_log2p_x) = find_local_minimum(log2p, 0, 2000)\n",
    "    return min_log2p\n",
    "\n",
    "def print_red_blue(step_r_name, step_b_name):\n",
    "    \"\"\"\n",
    "    Print computation of red blue with the parameters from the steps named as argument\n",
    "    \"\"\"\n",
    "    step_r = named_steps[step_r_name]\n",
    "    step_b = named_steps[step_b_name]\n",
    "    log2p = red_blue_win_bound(step_r.t, step_r.E, step_b.t, step_b.E)\n",
    "    print(f\"  log2: {log2p}\")\n",
    "\n",
    "print(\"C1.\")\n",
    "print_red_blue(\"cert\", \"next\")\n",
    "print(\"C2.\")\n",
    "print_red_blue(\"cert\", \"down\")\n",
    "print(\"C3.\")\n",
    "print_red_blue(\"soft\", \"next\")\n",
    "print(\"C4\")\n",
    "print_red_blue(\"soft\", \"redo\")"
   ]
  }
 ],
 "metadata": {
  "kernelspec": {
   "display_name": "SageMath 9.8",
   "language": "sage",
   "name": "sagemath-9.8"
  },
  "language_info": {
   "codemirror_mode": {
    "name": "ipython",
    "version": 3
   },
   "file_extension": ".py",
   "mimetype": "text/x-python",
   "name": "python",
   "nbconvert_exporter": "python",
   "pygments_lexer": "ipython3",
   "version": "3.11.1"
  }
 },
 "nbformat": 4,
 "nbformat_minor": 5
}
